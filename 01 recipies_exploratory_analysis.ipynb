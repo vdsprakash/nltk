{
 "cells": [
  {
   "cell_type": "markdown",
   "metadata": {},
   "source": [
    "# Exploring Text Data"
   ]
  },
  {
   "cell_type": "code",
   "execution_count": 3,
   "metadata": {},
   "outputs": [
    {
     "name": "stdout",
     "output_type": "stream",
     "text": [
      "Number of docs: 220\n",
      "Corpus size (char): 161170\n"
     ]
    }
   ],
   "source": [
    "import os\n",
    "data_folder = os.path.join('..','data','recipes')\n",
    "all_recipe_files = [os.path.join(data_folder,fname) for fname in os.listdir(data_folder)]\n",
    "\n",
    "documents = {}\n",
    "for recipe_name in all_recipe_files:\n",
    "    bname = os.path.basename(recipe_name)\n",
    "    recipe_number = os.path.splitext(bname)[0]\n",
    "    with open(recipe_name,'r') as f:\n",
    "        documents[recipe_number] = f.read()\n",
    "\n",
    "corpus_all_in_one = ' '.join([doc for doc in documents.values()])\n",
    "\n",
    "print(\"Number of docs: {}\".format(len(documents)))\n",
    "print(\"Corpus size (char): {}\".format(len(corpus_all_in_one)))"
   ]
  },
  {
   "cell_type": "markdown",
   "metadata": {},
   "source": [
    "# Tokenization"
   ]
  },
  {
   "cell_type": "code",
   "execution_count": 4,
   "metadata": {},
   "outputs": [
    {
     "name": "stdout",
     "output_type": "stream",
     "text": [
      "Total number of tokens: 33719\n"
     ]
    }
   ],
   "source": [
    "from nltk.tokenize import word_tokenize\n",
    "\n",
    "try:\n",
    "    all_tokens = [t for t in word_tokenize(corpus_all_in_one)]\n",
    "except UnicodeDecodeError:\n",
    "    all_tokens = [t for t in word_tokenize(corpus_all_in_one.decode('utf-8'))]\n",
    "    \n",
    "print(\"Total number of tokens: {}\".format(len(all_tokens)))"
   ]
  },
  {
   "cell_type": "markdown",
   "metadata": {},
   "source": [
    "# Counting Words"
   ]
  },
  {
   "cell_type": "code",
   "execution_count": 5,
   "metadata": {},
   "outputs": [
    {
     "name": "stdout",
     "output_type": "stream",
     "text": [
      "the\t1933\n",
      ",\t1726\n",
      ".\t1568\n",
      "and\t1435\n",
      "a\t1076\n",
      "of\t988\n",
      "in\t811\n",
      "with\t726\n",
      "it\t537\n",
      "to\t452\n",
      "or\t389\n",
      "is\t337\n",
      "(\t295\n",
      ")\t295\n",
      "be\t266\n",
      "them\t248\n",
      "butter\t231\n",
      "on\t220\n",
      "water\t205\n",
      "little\t198\n"
     ]
    }
   ],
   "source": [
    "from collections import Counter\n",
    "\n",
    "total_term_frequency = Counter(all_tokens)\n",
    "\n",
    "for word, freq in total_term_frequency.most_common(20):\n",
    "    print(\"{}\\t{}\".format(word,freq))"
   ]
  },
  {
   "cell_type": "code",
   "execution_count": 6,
   "metadata": {},
   "outputs": [
    {
     "name": "stdout",
     "output_type": "stream",
     "text": [
      "and\t220\n",
      ".\t220\n",
      ",\t219\n",
      ")\t218\n",
      "(\t218\n",
      "the\t217\n",
      "in\t215\n",
      "of\t210\n",
      "a\t210\n",
      "with\t203\n",
      "it\t167\n",
      "to\t165\n",
      "or\t165\n",
      "is\t145\n",
      "salt\t142\n",
      "butter\t137\n",
      "on\t136\n",
      "be\t133\n",
      "put\t126\n",
      "water\t125\n"
     ]
    }
   ],
   "source": [
    "document_frequency = Counter()\n",
    "for recipe_number, content in documents.items():\n",
    "    tokens = word_tokenize(content)\n",
    "    unique_tokens = set(tokens)\n",
    "    document_frequency.update(unique_tokens)\n",
    "\n",
    "for word,freq in document_frequency.most_common(20):\n",
    "    print(\"{}\\t{}\".format(word,freq))"
   ]
  },
  {
   "cell_type": "markdown",
   "metadata": {},
   "source": [
    "# Stop words"
   ]
  },
  {
   "cell_type": "code",
   "execution_count": 7,
   "metadata": {},
   "outputs": [
    {
     "name": "stdout",
     "output_type": "stream",
     "text": [
      "['i', 'me', 'my', 'myself', 'we', 'our', 'ours', 'ourselves', 'you', \"you're\", \"you've\", \"you'll\", \"you'd\", 'your', 'yours', 'yourself', 'yourselves', 'he', 'him', 'his', 'himself', 'she', \"she's\", 'her', 'hers', 'herself', 'it', \"it's\", 'its', 'itself', 'they', 'them', 'their', 'theirs', 'themselves', 'what', 'which', 'who', 'whom', 'this', 'that', \"that'll\", 'these', 'those', 'am', 'is', 'are', 'was', 'were', 'be', 'been', 'being', 'have', 'has', 'had', 'having', 'do', 'does', 'did', 'doing', 'a', 'an', 'the', 'and', 'but', 'if', 'or', 'because', 'as', 'until', 'while', 'of', 'at', 'by', 'for', 'with', 'about', 'against', 'between', 'into', 'through', 'during', 'before', 'after', 'above', 'below', 'to', 'from', 'up', 'down', 'in', 'out', 'on', 'off', 'over', 'under', 'again', 'further', 'then', 'once', 'here', 'there', 'when', 'where', 'why', 'how', 'all', 'any', 'both', 'each', 'few', 'more', 'most', 'other', 'some', 'such', 'no', 'nor', 'not', 'only', 'own', 'same', 'so', 'than', 'too', 'very', 's', 't', 'can', 'will', 'just', 'don', \"don't\", 'should', \"should've\", 'now', 'd', 'll', 'm', 'o', 're', 've', 'y', 'ain', 'aren', \"aren't\", 'couldn', \"couldn't\", 'didn', \"didn't\", 'doesn', \"doesn't\", 'hadn', \"hadn't\", 'hasn', \"hasn't\", 'haven', \"haven't\", 'isn', \"isn't\", 'ma', 'mightn', \"mightn't\", 'mustn', \"mustn't\", 'needn', \"needn't\", 'shan', \"shan't\", 'shouldn', \"shouldn't\", 'wasn', \"wasn't\", 'weren', \"weren't\", 'won', \"won't\", 'wouldn', \"wouldn't\"]\n",
      "179\n",
      "!\"#$%&'()*+,-./:;<=>?@[\\]^_`{|}~\n"
     ]
    }
   ],
   "source": [
    "from nltk.corpus import stopwords\n",
    "import string\n",
    "\n",
    "print(stopwords.words('english'))\n",
    "print(len(stopwords.words('english')))\n",
    "print(string.punctuation)"
   ]
  },
  {
   "cell_type": "code",
   "execution_count": 9,
   "metadata": {},
   "outputs": [
    {
     "name": "stdout",
     "output_type": "stream",
     "text": [
      "butter\t231\n",
      "water\t205\n",
      "little\t198\n",
      "put\t197\n",
      "one\t186\n",
      "salt\t185\n",
      "fire\t169\n",
      "half\t169\n",
      "two\t157\n",
      "When\t132\n",
      "sauce\t128\n",
      "pepper\t128\n",
      "add\t125\n",
      "cut\t125\n",
      "flour\t116\n",
      "piece\t116\n",
      "The\t111\n",
      "sugar\t100\n",
      "saucepan\t100\n",
      "oil\t99\n"
     ]
    }
   ],
   "source": [
    "stop_list = stopwords.words('english') + list(string.punctuation)\n",
    "\n",
    "tokens_no_stop = [token for token in all_tokens if token not in stop_list]\n",
    "\n",
    "total_term_frequency_no_stop = Counter(tokens_no_stop)\n",
    "\n",
    "for word, freq in total_term_frequency_no_stop.most_common(20):\n",
    "    print(\"{}\\t{}\".format(word,freq))"
   ]
  },
  {
   "cell_type": "code",
   "execution_count": 11,
   "metadata": {},
   "outputs": [
    {
     "name": "stdout",
     "output_type": "stream",
     "text": [
      "3\n"
     ]
    }
   ],
   "source": [
    "print(total_term_frequency_no_stop['olives'])"
   ]
  },
  {
   "cell_type": "markdown",
   "metadata": {},
   "source": [
    "# Text Normalisation\n",
    "\n",
    "Replacing tokens with a canonical form, so we can group togather different spelling/variations of the same word\n",
    "\n",
    "Stemming is the process of reducing a word to its bases/root form, called stem."
   ]
  },
  {
   "cell_type": "code",
   "execution_count": 12,
   "metadata": {},
   "outputs": [
    {
     "name": "stdout",
     "output_type": "stream",
     "text": [
      "put\t286\n",
      "butter\t245\n",
      "salt\t215\n",
      "piec\t211\n",
      "one\t210\n",
      "water\t209\n",
      "cook\t208\n",
      "littl\t198\n",
      "cut\t175\n",
      "half\t170\n",
      "brown\t169\n",
      "fire\t169\n",
      "egg\t163\n",
      "two\t162\n",
      "add\t160\n",
      "boil\t154\n",
      "sauc\t152\n",
      "pepper\t130\n",
      "serv\t128\n",
      "remov\t127\n"
     ]
    }
   ],
   "source": [
    "from nltk.stem import PorterStemmer\n",
    "\n",
    "stemmer = PorterStemmer()\n",
    "all_tokens_lower = [t.lower() for t in all_tokens]\n",
    "\n",
    "tokens_normalized = [stemmer.stem(t) for t in all_tokens_lower if t not in stop_list]\n",
    "\n",
    "total_term_frequency_normalised = Counter(tokens_normalized)\n",
    "\n",
    "for word, freq in total_term_frequency_normalised.most_common(20):\n",
    "    print(\"{}\\t{}\".format(word,freq))"
   ]
  },
  {
   "cell_type": "markdown",
   "metadata": {},
   "source": [
    "# N - gram\n",
    "Stop - word removal will affect n-gram\n",
    "e.g., phrases like \" a pinck of salt\" become \"pinch salt\" after stop-word removal"
   ]
  },
  {
   "cell_type": "code",
   "execution_count": 15,
   "metadata": {},
   "outputs": [
    {
     "name": "stdout",
     "output_type": "stream",
     "text": [
      "('in', 'the')\t175\n",
      "('in', 'a')\t172\n",
      "('of', 'the')\t153\n",
      "('with', 'a')\t142\n",
      "('.', 'when')\t131\n",
      "('the', 'fire')\t129\n",
      "('on', 'the')\t128\n",
      "(',', 'and')\t117\n",
      "('with', 'the')\t117\n",
      "('salt', 'and')\t113\n",
      "('it', 'is')\t109\n",
      "('a', 'little')\t107\n",
      "('piece', 'of')\t102\n",
      "('and', 'a')\t102\n",
      "('of', 'butter')\t94\n",
      "('and', 'pepper')\t87\n",
      "('.', 'the')\t85\n",
      "('and', 'the')\t84\n",
      "('when', 'the')\t82\n",
      "('with', 'salt')\t80\n"
     ]
    }
   ],
   "source": [
    "from nltk import ngrams\n",
    "phrases = Counter(ngrams(all_tokens_lower,2))\n",
    "for phrase,freq in phrases.most_common(20):\n",
    "    print(\"{}\\t{}\".format(phrase,freq))"
   ]
  },
  {
   "cell_type": "code",
   "execution_count": 16,
   "metadata": {},
   "outputs": [
    {
     "name": "stdout",
     "output_type": "stream",
     "text": [
      "('on', 'the', 'fire')\t90\n",
      "('salt', 'and', 'pepper')\t84\n",
      "('piece', 'of', 'butter')\t73\n",
      "('a', 'piece', 'of')\t63\n",
      "('with', 'salt', 'and')\t62\n",
      "('.', 'when', 'the')\t59\n",
      "('a', 'pinch', 'of')\t45\n",
      "('in', 'a', 'saucepan')\t45\n",
      "('season', 'with', 'salt')\t42\n",
      "('the', 'fire', 'with')\t41\n",
      "('when', 'it', 'is')\t39\n",
      "('and', 'pepper', '.')\t37\n",
      "('through', 'a', 'sieve')\t36\n",
      "('complete', 'the', 'cooking')\t34\n",
      "('and', 'a', 'half')\t33\n",
      "('of', 'butter', ',')\t27\n",
      "('a', 'taste', 'of')\t26\n",
      "('it', 'on', 'the')\t26\n",
      "('and', 'when', 'it')\t26\n",
      "(',', 'salt', 'and')\t25\n"
     ]
    }
   ],
   "source": [
    "phrases = Counter(ngrams(all_tokens_lower,3))\n",
    "for phrase, freq in phrases.most_common(20):\n",
    "    print(\"{}\\t{}\".format(phrase,freq))"
   ]
  },
  {
   "cell_type": "code",
   "execution_count": 17,
   "metadata": {},
   "outputs": [
    {
     "name": "stdout",
     "output_type": "stream",
     "text": [
      "('salt', 'pepper')\t106\n",
      "('piece', 'butter')\t73\n",
      "('grated', 'cheese')\t55\n",
      "('bread', 'crumbs')\t34\n",
      "('tomato', 'sauce')\t32\n",
      "('put', 'fire')\t32\n",
      "('complete', 'cooking')\t31\n",
      "('thin', 'slices')\t29\n",
      "('brown', 'stock')\t29\n",
      "('season', 'salt')\t29\n",
      "('olive', 'oil')\t26\n",
      "('low', 'fire')\t25\n",
      "('chopped', 'fine')\t25\n",
      "('boiling', 'water')\t22\n",
      "('little', 'pieces')\t22\n",
      "('half', 'ounces')\t21\n",
      "('one', 'two')\t18\n",
      "('half', 'cooked')\t18\n",
      "('two', 'ounces')\t18\n",
      "('lemon', 'peel')\t18\n"
     ]
    }
   ],
   "source": [
    "phrases = Counter(ngrams(tokens_no_stop,2))\n",
    "\n",
    "for phrase, freq in phrases.most_common(20):\n",
    "    print(\"{}\\t{}\".format(phrase,freq))"
   ]
  },
  {
   "cell_type": "code",
   "execution_count": 19,
   "metadata": {},
   "outputs": [
    {
     "name": "stdout",
     "output_type": "stream",
     "text": [
      "('season', 'salt', 'pepper')\t57\n",
      "('bread', 'crumb', 'ground')\t13\n",
      "('cut', 'thin', 'slice')\t13\n",
      "('tast', 'lemon', 'peel')\t12\n",
      "('pinch', 'grate', 'chees')\t11\n",
      "('sprinkl', 'bread', 'crumb')\t11\n",
      "('good', 'oliv', 'oil')\t10\n",
      "('greas', 'butter', 'sprinkl')\t10\n",
      "('small', 'piec', 'butter')\t10\n",
      "('saucepan', 'piec', 'butter')\t9\n",
      "('piec', 'butter', 'brown')\t9\n",
      "('anoth', 'piec', 'butter')\t9\n",
      "('cut', 'littl', 'piec')\t9\n",
      "('crumb', 'ground', 'fine')\t9\n",
      "('cut', 'small', 'piec')\t9\n",
      "('half', 'inch', 'thick')\t9\n",
      "('medium', 'size', 'onion')\t9\n",
      "('ounc', 'sweet', 'almond')\t9\n",
      "('tomato', 'sauc', '12')\t8\n",
      "('littl', 'piec', 'butter')\t8\n"
     ]
    }
   ],
   "source": [
    "phrases = Counter(ngrams(tokens_normalized,3))\n",
    "\n",
    "for phrase, freq in phrases.most_common(20):\n",
    "    print(\"{}\\t{}\".format(phrase,freq))"
   ]
  },
  {
   "cell_type": "code",
   "execution_count": null,
   "metadata": {},
   "outputs": [],
   "source": []
  },
  {
   "cell_type": "code",
   "execution_count": null,
   "metadata": {},
   "outputs": [],
   "source": []
  },
  {
   "cell_type": "code",
   "execution_count": null,
   "metadata": {},
   "outputs": [],
   "source": []
  },
  {
   "cell_type": "code",
   "execution_count": null,
   "metadata": {},
   "outputs": [],
   "source": []
  }
 ],
 "metadata": {
  "kernelspec": {
   "display_name": "Python 3",
   "language": "python",
   "name": "python3"
  },
  "language_info": {
   "codemirror_mode": {
    "name": "ipython",
    "version": 3
   },
   "file_extension": ".py",
   "mimetype": "text/x-python",
   "name": "python",
   "nbconvert_exporter": "python",
   "pygments_lexer": "ipython3",
   "version": "3.6.5"
  }
 },
 "nbformat": 4,
 "nbformat_minor": 2
}
